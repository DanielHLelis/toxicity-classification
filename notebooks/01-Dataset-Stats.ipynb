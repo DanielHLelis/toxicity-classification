{
 "cells": [
  {
   "cell_type": "code",
   "execution_count": 1,
   "metadata": {},
   "outputs": [],
   "source": [
    "import os\n",
    "import sys\n",
    "\n",
    "import polars as pl\n",
    "import plotly.express as px"
   ]
  },
  {
   "cell_type": "code",
   "execution_count": 2,
   "metadata": {},
   "outputs": [],
   "source": [
    "ROOT_PATH = '../'\n",
    "DRIVE_PATH = 'Colab/ToxicityClassification'\n",
    "\n",
    "# When on Colab, use Google Drive as the root path to persist and load data\n",
    "if 'google.colab' in sys.modules:\n",
    "    from google.colab import drive\n",
    "    drive.mount('/content/drive')\n",
    "    ROOT_PATH = os.path.join('/content/drive/My Drive/', DRIVE_PATH)\n",
    "    os.makedirs(ROOT_PATH, exist_ok=True)\n",
    "    os.chdir(ROOT_PATH)"
   ]
  },
  {
   "cell_type": "code",
   "execution_count": 3,
   "metadata": {},
   "outputs": [],
   "source": [
    "# Register the parent directory of the current script as a package root, \n",
    "# so that we can import modules from the parent directory\n",
    "sys.path.append(os.path.abspath(os.path.join(ROOT_PATH, 'src')))"
   ]
  },
  {
   "cell_type": "code",
   "execution_count": 4,
   "metadata": {},
   "outputs": [],
   "source": [
    "df = pl.read_parquet(os.path.join(ROOT_PATH, 'data', 'joint', 'data.parquet.zstd'))"
   ]
  },
  {
   "cell_type": "code",
   "execution_count": 9,
   "metadata": {},
   "outputs": [
    {
     "data": {
      "text/html": [
       "<div><style>\n",
       ".dataframe > thead > tr,\n",
       ".dataframe > tbody > tr {\n",
       "  text-align: right;\n",
       "  white-space: pre-wrap;\n",
       "}\n",
       "</style>\n",
       "<small>shape: (12, 2)</small><table border=\"1\" class=\"dataframe\"><thead><tr><th>statistic</th><th>value</th></tr><tr><td>str</td><td>f64</td></tr></thead><tbody><tr><td>&quot;count&quot;</td><td>27952.0</td></tr><tr><td>&quot;null_count&quot;</td><td>0.0</td></tr><tr><td>&quot;mean&quot;</td><td>95.443439</td></tr><tr><td>&quot;std&quot;</td><td>84.535494</td></tr><tr><td>&quot;min&quot;</td><td>4.0</td></tr><tr><td>&hellip;</td><td>&hellip;</td></tr><tr><td>&quot;50%&quot;</td><td>69.0</td></tr><tr><td>&quot;75%&quot;</td><td>120.0</td></tr><tr><td>&quot;90%&quot;</td><td>208.0</td></tr><tr><td>&quot;95%&quot;</td><td>267.0</td></tr><tr><td>&quot;max&quot;</td><td>1084.0</td></tr></tbody></table></div>"
      ],
      "text/plain": [
       "shape: (12, 2)\n",
       "┌────────────┬───────────┐\n",
       "│ statistic  ┆ value     │\n",
       "│ ---        ┆ ---       │\n",
       "│ str        ┆ f64       │\n",
       "╞════════════╪═══════════╡\n",
       "│ count      ┆ 27952.0   │\n",
       "│ null_count ┆ 0.0       │\n",
       "│ mean       ┆ 95.443439 │\n",
       "│ std        ┆ 84.535494 │\n",
       "│ min        ┆ 4.0       │\n",
       "│ …          ┆ …         │\n",
       "│ 50%        ┆ 69.0      │\n",
       "│ 75%        ┆ 120.0     │\n",
       "│ 90%        ┆ 208.0     │\n",
       "│ 95%        ┆ 267.0     │\n",
       "│ max        ┆ 1084.0    │\n",
       "└────────────┴───────────┘"
      ]
     },
     "metadata": {},
     "output_type": "display_data"
    }
   ],
   "source": [
    "display(df['text'].str.len_chars().describe(percentiles=[0.1, 0.25, 0.5, 0.75, 0.9, 0.95]))"
   ]
  }
 ],
 "metadata": {
  "kernelspec": {
   "display_name": "Python 3",
   "language": "python",
   "name": "python3"
  },
  "language_info": {
   "codemirror_mode": {
    "name": "ipython",
    "version": 3
   },
   "file_extension": ".py",
   "mimetype": "text/x-python",
   "name": "python",
   "nbconvert_exporter": "python",
   "pygments_lexer": "ipython3",
   "version": "3.1.-1"
  }
 },
 "nbformat": 4,
 "nbformat_minor": 2
}
